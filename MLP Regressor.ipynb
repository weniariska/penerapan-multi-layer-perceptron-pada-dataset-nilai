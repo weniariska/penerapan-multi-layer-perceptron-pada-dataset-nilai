{
 "cells": [
  {
   "cell_type": "code",
   "execution_count": 26,
   "id": "0515515c",
   "metadata": {},
   "outputs": [
    {
     "name": "stdout",
     "output_type": "stream",
     "text": [
      "0.9999992663483358\n"
     ]
    }
   ],
   "source": [
    "import pandas as pd\n",
    "import numpy as np\n",
    "var = ['nilai1', 'nilai2', 'nilai3', 'hasil']\n",
    "\n",
    "data = pd. read_csv('nilai_mhs_real.csv', names=var)\n",
    "x = np.array(data[['nilai1', 'nilai2', 'nilai3']])\n",
    "y = np.array(data['hasil'])\n",
    "\n",
    "from sklearn.preprocessing import MinMaxScaler\n",
    "scaler = MinMaxScaler(feature_range=(0,1))\n",
    "rescaledX = scaler.fit_transform(x)\n",
    "\n",
    "xlatih = rescaledX[:-10,:]\n",
    "ylatih = y[:-10]\n",
    "\n",
    "xuji = rescaledX[-10:,:]\n",
    "yuji = y[-10:]\n",
    "\n",
    "from sklearn.neural_network import MLPRegressor\n",
    "\n",
    "clf = MLPRegressor(activation='logistic', solver='lbfgs', alpha=1e-5, hidden_layer_sizes=(5, 2), max_iter=1000, random_state=0)\n",
    "clf.fit(xlatih, ylatih)\n",
    "print(clf.score(xlatih, ylatih))\n",
    "\n",
    "prediksi = clf.predict(xuji)"
   ]
  },
  {
   "cell_type": "code",
   "execution_count": null,
   "id": "583eda62",
   "metadata": {},
   "outputs": [],
   "source": []
  }
 ],
 "metadata": {
  "kernelspec": {
   "display_name": "Python 3 (ipykernel)",
   "language": "python",
   "name": "python3"
  },
  "language_info": {
   "codemirror_mode": {
    "name": "ipython",
    "version": 3
   },
   "file_extension": ".py",
   "mimetype": "text/x-python",
   "name": "python",
   "nbconvert_exporter": "python",
   "pygments_lexer": "ipython3",
   "version": "3.10.2"
  }
 },
 "nbformat": 4,
 "nbformat_minor": 5
}
